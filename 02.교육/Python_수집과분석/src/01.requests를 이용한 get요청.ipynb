{
 "cells": [
  {
   "cell_type": "markdown",
   "metadata": {},
   "source": [
    "### requests 라이브러리 이용\n"
   ]
  },
  {
   "cell_type": "code",
   "execution_count": 1,
   "metadata": {},
   "outputs": [],
   "source": [
    "import requests"
   ]
  },
  {
   "cell_type": "code",
   "execution_count": 3,
   "metadata": {},
   "outputs": [],
   "source": [
    "response = requests.get (\"http://news.naver.com/main/home.nhn\")\n"
   ]
  },
  {
   "cell_type": "code",
   "execution_count": 4,
   "metadata": {},
   "outputs": [
    {
     "data": {
      "text/plain": [
       "200"
      ]
     },
     "execution_count": 4,
     "metadata": {},
     "output_type": "execute_result"
    }
   ],
   "source": [
    "response.status_code\n"
   ]
  },
  {
   "cell_type": "code",
   "execution_count": 5,
   "metadata": {},
   "outputs": [],
   "source": [
    "content = response.text\n"
   ]
  },
  {
   "cell_type": "code",
   "execution_count": 7,
   "metadata": {},
   "outputs": [],
   "source": [
    "#content"
   ]
  },
  {
   "cell_type": "code",
   "execution_count": 13,
   "metadata": {},
   "outputs": [],
   "source": [
    "from bs4 import BeautifulSoup"
   ]
  },
  {
   "cell_type": "code",
   "execution_count": 14,
   "metadata": {},
   "outputs": [],
   "source": [
    "soup = BeautifulSoup(content, 'html.parser')"
   ]
  },
  {
   "cell_type": "code",
   "execution_count": 16,
   "metadata": {},
   "outputs": [],
   "source": [
    "#soup"
   ]
  },
  {
   "cell_type": "code",
   "execution_count": 19,
   "metadata": {},
   "outputs": [
    {
     "name": "stdout",
     "output_type": "stream",
     "text": [
      "靑·與 \"위법없다\" vs 野 \"물러나라\"…김기식 힘겨루기 http://news.naver.com/main/read.nhn?oid=421&sid1=100&aid=0003307472&mid=shm&mode=LSD&nh=20180409190434\n",
      "\"한미FTA로 무역흑자 늘었지만 수출 증가효과는 미국이 더 누려\" http://news.naver.com/main/read.nhn?oid=001&sid1=101&aid=0010013962&mid=shm&mode=LSD&nh=20180409194723\n",
      "내일 따뜻한 봄날씨 회복…밤부터 전국 비 http://news.naver.com/main/read.nhn?oid=422&sid1=103&aid=0000312381&mid=shm&mode=LSD&nh=20180409200424\n",
      "'카이스트 보이콧' 주도한 월시 교수 \"보이콧 철회할 것\" http://news.naver.com/main/read.nhn?oid=277&sid1=105&aid=0004214549&mid=shm&mode=LSD&nh=20180409201226\n",
      "한국당, 호남外 광역단체장 후보 확정…대구 권영진-경북 이철우 http://news.naver.com/main/read.nhn?oid=001&sid1=100&aid=0010013488&mid=shm&mode=LSD&nh=20180409185707\n",
      "동영상 기사 http://news.naver.com/main/read.nhn?mode=LSD&mid=shm&sid1=100&oid=055&aid=0000629828\n",
      "[특별사면, 은밀한 뒷거래①] 삼성, IOC 위원 명단 담긴 '로비 리스트' 받았다 http://news.naver.com/main/read.nhn?mode=LSD&mid=shm&sid1=100&oid=055&aid=0000629828\n",
      "MB, 추가 투입된 변호인에 \"잘해달라\"…첫 재판은 언제? http://news.naver.com/main/read.nhn?mode=LSD&mid=shm&sid1=100&oid=437&aid=0000179116\n",
      "\"가히 무술옥사\" 언급 MB에…검찰은 \"어불성설\" 반박 http://news.naver.com/main/read.nhn?mode=LSD&mid=shm&sid1=100&oid=437&aid=0000179115\n",
      "'패싱 우려' 日 외무상 내일 방한…위안부 합의 후 처음 http://news.naver.com/main/read.nhn?mode=LSD&mid=shm&sid1=100&oid=422&aid=0000312387\n",
      "SNS에 글 올린 MB \"'무술옥사'…대한민국 정통성 부정\" http://news.naver.com/main/read.nhn?mode=LSD&mid=shm&sid1=100&oid=055&aid=0000629827\n",
      "구속 전 써 둔 글 올리며 '검찰 수사 공격'…MB 여론전 http://news.naver.com/main/read.nhn?mode=LSD&mid=shm&sid1=100&oid=437&aid=0000179114\n",
      "동영상 기사 http://news.naver.com/main/read.nhn?mode=LSD&mid=shm&sid1=101&oid=422&aid=0000312390\n",
      "3인 가구 월소득 1천170만원 이하에 아동수당 지급 http://news.naver.com/main/read.nhn?mode=LSD&mid=shm&sid1=101&oid=422&aid=0000312390\n",
      "[단독] 삼성그룹 간판 바뀐다…차세대 주력 '바이오' 내세워 http://news.naver.com/main/read.nhn?mode=LSD&mid=shm&sid1=101&oid=214&aid=0000824480\n",
      "STX조선 또 법정관리 눈앞…한국GM 노조는 철야농성 돌입 http://news.naver.com/main/read.nhn?mode=LSD&mid=shm&sid1=101&oid=374&aid=0000155483\n",
      "[앵커리포트] 문 대통령님! 어버이날 공휴일 공약 지켜주세요 http://news.naver.com/main/read.nhn?mode=LSD&mid=shm&sid1=101&oid=374&aid=0000155482\n",
      "한국GM 노사, 중노위 1차 조정서도 '이견'…노조 철야농성(종합) http://news.naver.com/main/read.nhn?mode=LSD&mid=shm&sid1=101&oid=001&aid=0010014024\n",
      "출구 없는 한국GM…협력사들 감원 돌입 ‘눈물’ http://news.naver.com/main/read.nhn?mode=LSD&mid=shm&sid1=101&oid=449&aid=0000150306\n",
      "동영상 기사 http://news.naver.com/main/read.nhn?mode=LSD&mid=shm&sid1=102&oid=214&aid=0000824478\n",
      "1년도 안 돼 해고되는 요양보호사들…이유는? http://news.naver.com/main/read.nhn?mode=LSD&mid=shm&sid1=102&oid=214&aid=0000824478\n",
      "정시 인원 증가?…전문가들 “학종 규모는 유지될 것” http://news.naver.com/main/read.nhn?mode=LSD&mid=shm&sid1=102&oid=028&aid=0002405614\n",
      "삼성 '노조 와해' 문건…어떤 내용 담겼나 http://news.naver.com/main/read.nhn?mode=LSD&mid=shm&sid1=102&oid=422&aid=0000312384\n",
      "[단독] 검찰총장, 안태근 영장 청구 '수사심의위'에 결정 요청 http://news.naver.com/main/read.nhn?mode=LSD&mid=shm&sid1=102&oid=214&aid=0000824472\n",
      "전자발찌 차고 또 성폭행, 외국 도주…국제공조 송환해 구속(종합) http://news.naver.com/main/read.nhn?mode=LSD&mid=shm&sid1=102&oid=001&aid=0010014023\n",
      "성남시 고교 무상교복 8전9기 끝에 추진 http://news.naver.com/main/read.nhn?mode=LSD&mid=shm&sid1=102&oid=421&aid=0003307521\n",
      "동영상 기사 http://news.naver.com/main/read.nhn?mode=LSD&mid=shm&sid1=103&oid=449&aid=0000150307\n",
      "명품은 ‘비닐가방’도 80만 원…없어서 못 판다 http://news.naver.com/main/read.nhn?mode=LSD&mid=shm&sid1=103&oid=449&aid=0000150307\n",
      "‘배짱 벤츠’ 고발했지만 “벌금으로 때운다” 코웃음 http://news.naver.com/main/read.nhn?mode=LSD&mid=shm&sid1=103&oid=449&aid=0000150305\n",
      "성수동 이사간 공씨책방 “헌책 득템하러 오세요” http://news.naver.com/main/read.nhn?mode=LSD&mid=shm&sid1=103&oid=469&aid=0000292125\n",
      "한국지엠, 생산직 급여 정상 지급한다…이번주 교섭도 재개키로 http://news.naver.com/main/read.nhn?mode=LSD&mid=shm&sid1=103&oid=030&aid=0002697813\n",
      "택시·오토바이 ‘기웃’…종로 자전거 도로 ‘아찔’ http://news.naver.com/main/read.nhn?mode=LSD&mid=shm&sid1=103&oid=449&aid=0000150296\n",
      "세 번째 관람한 직장인 “자코메티, 내 인생 최고의 전시… 큰 감동” http://news.naver.com/main/read.nhn?mode=LSD&mid=shm&sid1=103&oid=005&aid=0001087512\n",
      " http://news.naver.com/main/read.nhn?mode=LSD&mid=shm&sid1=104&oid=003&aid=0008534781\n",
      "레바논 군, \"새벽 3시에 이스라엘 전투기 4대 영공 무단침입해\" http://news.naver.com/main/read.nhn?mode=LSD&mid=shm&sid1=104&oid=003&aid=0008534781\n",
      "러 외무 \"시리아서 화학무기 공격 흔적 못 찾아\" http://news.naver.com/main/read.nhn?mode=LSD&mid=shm&sid1=104&oid=421&aid=0003307529\n",
      "궁지의 아베, 방미(訪美)로 돌파구? http://news.naver.com/main/read.nhn?mode=LSD&mid=shm&sid1=104&oid=022&aid=0003264327\n",
      "대북 강경파 볼턴 국가안보보좌관 업무 시작…폼페이오 내정자는 http://news.naver.com/main/read.nhn?mode=LSD&mid=shm&sid1=104&oid=032&aid=0002862855\n",
      "\"사우디, 카타르 턱밑에 핵폐기장·군기지 건설\" http://news.naver.com/main/read.nhn?mode=LSD&mid=shm&sid1=104&oid=001&aid=0010014008\n",
      "中외교부 \"현 상황에선 美와 무역협상 불가\" http://news.naver.com/main/read.nhn?mode=LSD&mid=shm&sid1=104&oid=421&aid=0003307504\n",
      " http://news.naver.com/main/read.nhn?mode=LSD&mid=shm&sid1=105&oid=277&aid=0004215057\n",
      "세계 AI 분야 과학자 57명, '카이스트 보이콧' 최종 철회 http://news.naver.com/main/read.nhn?mode=LSD&mid=shm&sid1=105&oid=277&aid=0004215057\n",
      "네이버, 오디오 콘텐츠 사고파는 플랫폼 만든다 http://news.naver.com/main/read.nhn?mode=LSD&mid=shm&sid1=105&oid=015&aid=0003921078\n",
      "해외 AI·로봇 석학들 “KAIST 설명 납득…보이콧 철회” http://news.naver.com/main/read.nhn?mode=LSD&mid=shm&sid1=105&oid=018&aid=0004075446\n",
      "해외학자 57명 KAIST 보이콧 철회…“공동 협력 프로젝트 수행” http://news.naver.com/main/read.nhn?mode=LSD&mid=shm&sid1=105&oid=421&aid=0003307494\n",
      "진단 어려운 인대 부상, 레이저로 선명하게 판독 http://news.naver.com/main/read.nhn?mode=LSD&mid=shm&sid1=105&oid=584&aid=0000000634\n",
      "\"인터넷 음원 서비스 가격 3배 오를 수도\" http://news.naver.com/main/read.nhn?mode=LSD&mid=shm&sid1=105&oid=008&aid=0004035654\n",
      "한국당, 호남外 광역단체장 후보 확정…대구 권영진-경북 이철우 /main/ranking/read.nhn?mid=etc&sid1=111&rankingType=popular_day&oid=001&aid=0010013488&date=20180409&type=1&rankingSeq=1&rankingSectionId=100\n",
      "靑·與 \"위법없다\" vs 野 \"물러나라\"…김기식 힘겨루기(종합) /main/ranking/read.nhn?mid=etc&sid1=111&rankingType=popular_day&oid=421&aid=0003307472&date=20180409&type=1&rankingSeq=2&rankingSectionId=100\n",
      "뇌물·횡령 인정되면 중형… ‘다스 주인’ 치열한 공방 예고 /main/ranking/read.nhn?mid=etc&sid1=111&rankingType=popular_day&oid=081&aid=0002906392&date=20180409&type=1&rankingSeq=3&rankingSectionId=100\n",
      "이명박 전 대통령 “한풀이는 예상했지만 이건 아냐” /main/ranking/read.nhn?mid=etc&sid1=111&rankingType=popular_day&oid=025&aid=0002811741&date=20180409&type=1&rankingSeq=4&rankingSectionId=100\n",
      "\"내가 큰 꿈이 있다\"…대선 1년 앞 비자금 조성 중단시킨 MB /main/ranking/read.nhn?mid=etc&sid1=111&rankingType=popular_day&oid=001&aid=0010013579&date=20180409&type=1&rankingSeq=5&rankingSectionId=100\n",
      "여야 \"MB 기소 시작일뿐\" 철저 수사 촉구…한국당 논평 안내 /main/ranking/read.nhn?mid=etc&sid1=111&rankingType=popular_day&oid=001&aid=0010013892&date=20180409&type=1&rankingSeq=6&rankingSectionId=100\n",
      "이명박 \"측근 300명 검찰수사, 가히 무술옥사\"…4대 혐의 반박 /main/ranking/read.nhn?mid=etc&sid1=111&rankingType=popular_day&oid=001&aid=0010013874&date=20180409&type=1&rankingSeq=7&rankingSectionId=100\n",
      "2년 전 총선 참패 → 문재인 대통령 지지율 90%… 호남 여론 '상전벽해' 왜? /main/ranking/read.nhn?mid=etc&sid1=111&rankingType=popular_day&oid=015&aid=0003921024&date=20180409&type=0&rankingSeq=8&rankingSectionId=100\n",
      "백기든 삼성證 직원들…16명 전원 주식계좌 넘겨 /main/ranking/read.nhn?mid=etc&sid1=111&rankingType=popular_day&oid=008&aid=0004035580&date=20180409&type=1&rankingSeq=1&rankingSectionId=101\n",
      "日 후쿠시마산 수산물 분쟁 2라운드…정부, WTO '상소' /main/ranking/read.nhn?mid=etc&sid1=111&rankingType=popular_day&oid=003&aid=0008534636&date=20180409&type=1&rankingSeq=2&rankingSectionId=101\n",
      "강병구 재정특위 위원장 \"고가1주택 포함 보유세개편 우선 논의\" /main/ranking/read.nhn?mid=etc&sid1=111&rankingType=popular_day&oid=001&aid=0010013905&date=20180409&type=1&rankingSeq=3&rankingSectionId=101\n",
      "한국GM, 생산직 급여 정상 지급…교섭 이번주 재개키로(종합) /main/ranking/read.nhn?mid=etc&sid1=111&rankingType=popular_day&oid=001&aid=0010013949&date=20180409&type=1&rankingSeq=4&rankingSectionId=101\n",
      "[뉴스&팩트]신한은행 임원 자녀 특혜채용 논란…진실은 /main/ranking/read.nhn?mid=etc&sid1=111&rankingType=popular_day&oid=008&aid=0004035648&date=20180409&type=1&rankingSeq=5&rankingSectionId=101\n",
      "[단독] 싸이, 기막힌 빌딩테크 /main/ranking/read.nhn?mid=etc&sid1=111&rankingType=popular_day&oid=009&aid=0004130448&date=20180409&type=1&rankingSeq=6&rankingSectionId=101\n",
      "高價 1주택에 보유세 인상 추진…‘제 2의 종부세’ 파동 일어나나 /main/ranking/read.nhn?mid=etc&sid1=111&rankingType=popular_day&oid=021&aid=0002348886&date=20180409&type=0&rankingSeq=7&rankingSectionId=101\n",
      "\"한미FTA로 무역흑자 늘었지만 수출 증가효과는 미국이 더 누려\" /main/ranking/read.nhn?mid=etc&sid1=111&rankingType=popular_day&oid=001&aid=0010013962&date=20180409&type=1&rankingSeq=8&rankingSectionId=101\n",
      "27층서 추락한 작업자 낙하물 방지망에 떨어져 구사일생 /main/ranking/read.nhn?mid=etc&sid1=111&rankingType=popular_day&oid=001&aid=0010013942&date=20180409&type=1&rankingSeq=1&rankingSectionId=102\n",
      "[재활용정책 이대로는 안된다] 먹던 김치·족발이 그대로…‘음식물 쓰레기 지옥’ /main/ranking/read.nhn?mid=etc&sid1=111&rankingType=popular_day&oid=016&aid=0001377704&date=20180409&type=1&rankingSeq=2&rankingSectionId=102\n",
      "‘오죽하면 유리창에 호소했을까’…성폭력에 무심한 학교 당국 /main/ranking/read.nhn?mid=etc&sid1=111&rankingType=popular_day&oid=028&aid=0002405568&date=20180409&type=1&rankingSeq=3&rankingSectionId=102\n",
      "비만 진단기준 2→3단계로…BMI 25이상이면 '성인비만' /main/ranking/read.nhn?mid=etc&sid1=111&rankingType=popular_day&oid=421&aid=0003307384&date=20180409&type=1&rankingSeq=4&rankingSectionId=102\n",
      "오전엔 중국 먼지, 오후엔 한국 먼지... 중요한 건 '대책' /main/ranking/read.nhn?mid=etc&sid1=111&rankingType=popular_day&oid=032&aid=0002862853&date=20180409&type=1&rankingSeq=5&rankingSectionId=102\n",
      "\"3인가구 재산·소득 월1천170만원 미만시 아동수당 대상\" /main/ranking/read.nhn?mid=etc&sid1=111&rankingType=popular_day&oid=001&aid=0010012955&date=20180409&type=1&rankingSeq=6&rankingSectionId=102\n",
      "'성관계 거절'하는 아내 폭행한 현직 공무원 간부 입건 /main/ranking/read.nhn?mid=etc&sid1=111&rankingType=popular_day&oid=002&aid=0002055353&date=20180409&type=1&rankingSeq=7&rankingSectionId=102\n",
      "'금징어' 이유 있었네…1천970t 불법 조업 71명 적발 /main/ranking/read.nhn?mid=etc&sid1=111&rankingType=popular_day&oid=001&aid=0010013101&date=20180409&type=1&rankingSeq=8&rankingSectionId=102\n",
      "[서소문사진관]붉은 양탄자를 깔아 놓은 듯. 국내 3대 진달래 군락지 대금산의 봄빛 /main/ranking/read.nhn?mid=etc&sid1=111&rankingType=popular_day&oid=025&aid=0002811794&date=20180409&type=1&rankingSeq=1&rankingSectionId=103\n",
      "대한민국 3040들이 김하온·이병재와 사랑에 빠진 이유 /main/ranking/read.nhn?mid=etc&sid1=111&rankingType=popular_day&oid=028&aid=0002405552&date=20180409&type=1&rankingSeq=2&rankingSectionId=103\n",
      "[날씨] 내일 기온 껑충 '서울 21도'…밤부터 비 /main/ranking/read.nhn?mid=etc&sid1=111&rankingType=popular_day&oid=422&aid=0000312369&date=20180409&type=2&rankingSeq=3&rankingSectionId=103\n",
      "\"대학 합격할 것 같아요?\" 오빠에게 운세 물었더니 /main/ranking/read.nhn?mid=etc&sid1=111&rankingType=popular_day&oid=047&aid=0002185241&date=20180409&type=1&rankingSeq=4&rankingSectionId=103\n",
      "[취재파일] 예전에는 미세먼지 없었다?…80~90년대는 더 심했다 /main/ranking/read.nhn?mid=etc&sid1=111&rankingType=popular_day&oid=055&aid=0000629731&date=20180409&type=1&rankingSeq=5&rankingSectionId=103\n",
      "[반려독 반려캣] “반려견 드러누워 배 보일 때 만지지 마세요” /main/ranking/read.nhn?mid=etc&sid1=111&rankingType=popular_day&oid=081&aid=0002906349&date=20180409&type=1&rankingSeq=6&rankingSectionId=103\n",
      "올해 1만대 이상 팔린 차 10대 중 9대는 현대·기아차 /main/ranking/read.nhn?mid=etc&sid1=111&rankingType=popular_day&oid=030&aid=0002697684&date=20180409&type=1&rankingSeq=7&rankingSectionId=103\n",
      "“제 남편도 아닌데… 시누이 남편을 ‘서방님’ 불러야 하나요” /main/ranking/read.nhn?mid=etc&sid1=111&rankingType=popular_day&oid=020&aid=0003139247&date=20180409&type=1&rankingSeq=8&rankingSectionId=103\n",
      "中 '무역전쟁' 결전 의지에 놀랐나 … 누그러진 美 /main/ranking/read.nhn?mid=etc&sid1=111&rankingType=popular_day&oid=022&aid=0003264273&date=20180409&type=1&rankingSeq=1&rankingSectionId=104\n",
      "中 애플 안 사고 맥도날드 안 먹고…\"미국산 NO!\" /main/ranking/read.nhn?mid=etc&sid1=111&rankingType=popular_day&oid=421&aid=0003306825&date=20180409&type=0&rankingSeq=2&rankingSectionId=104\n",
      "중국서 미국산 불매운동 조짐…\"미국차 조심하라\" /main/ranking/read.nhn?mid=etc&sid1=111&rankingType=popular_day&oid=001&aid=0010012120&date=20180409&type=1&rankingSeq=3&rankingSectionId=104\n",
      "러시아 월드컵 빨간불 /main/ranking/read.nhn?mid=etc&sid1=111&rankingType=popular_day&oid=081&aid=0002906399&date=20180409&type=1&rankingSeq=4&rankingSectionId=104\n",
      "[월드피플+] 늑대들에게 길러진 ‘현실판 모글리’… “다시 돌아가고파” /main/ranking/read.nhn?mid=etc&sid1=111&rankingType=popular_day&oid=081&aid=0002906343&date=20180409&type=1&rankingSeq=5&rankingSectionId=104\n",
      "'화학무기 공격' 후 시리아공군기지 맹폭당해…이스라엘 소행설(종합2보) /main/ranking/read.nhn?mid=etc&sid1=111&rankingType=popular_day&oid=001&aid=0010013519&date=20180409&type=1&rankingSeq=6&rankingSectionId=104\n",
      "北리설주, 만찬 중 김정은에 \"제 남편\" 이어 \"담배 끊어라\" 발언 /main/ranking/read.nhn?mid=etc&sid1=111&rankingType=popular_day&oid=003&aid=0008533397&date=20180409&type=1&rankingSeq=7&rankingSectionId=104\n",
      "러시아 \"시리아 중부 공군기지 공습 주체는 이스라엘\"(종합) /main/ranking/read.nhn?mid=etc&sid1=111&rankingType=popular_day&oid=001&aid=0010013989&date=20180409&type=1&rankingSeq=8&rankingSectionId=104\n",
      "애플 가로수길 때문에 리셀러들 &apos;시름&apos; /main/ranking/read.nhn?mid=etc&sid1=111&rankingType=popular_day&oid=092&aid=0002134985&date=20180409&type=1&rankingSeq=1&rankingSectionId=105\n",
      "[사이언스] 지구궤도 떠도는 우주물체 8000톤… '제2·제3 톈궁' 우려 커져 /main/ranking/read.nhn?mid=etc&sid1=111&rankingType=popular_day&oid=015&aid=0003920846&date=20180409&type=1&rankingSeq=2&rankingSectionId=105\n",
      "“테슬라 사고는 역광 때문”…눈ㆍ비 등 ‘악천후’, 자율주행 난관으로 떠올라 /main/ranking/read.nhn?mid=etc&sid1=111&rankingType=popular_day&oid=025&aid=0002811766&date=20180409&type=1&rankingSeq=3&rankingSectionId=105\n",
      "간편결제 시장, 40兆 육박… 4强 '패권 다툼' 불붙다 /main/ranking/read.nhn?mid=etc&sid1=111&rankingType=popular_day&oid=015&aid=0003920867&date=20180409&type=1&rankingSeq=4&rankingSectionId=105\n",
      "[단독]'카이스트 보이콧' 주도한 월시 교수 \"보이콧 철회할 것\" /main/ranking/read.nhn?mid=etc&sid1=111&rankingType=popular_day&oid=277&aid=0004214549&date=20180409&type=1&rankingSeq=5&rankingSectionId=105\n",
      "매출 1000억 잇단 합류 스타트업의 슈퍼스타들 /main/ranking/read.nhn?mid=etc&sid1=111&rankingType=popular_day&oid=014&aid=0003998505&date=20180409&type=1&rankingSeq=6&rankingSectionId=105\n",
      "“음원 서비스 가격 월 3만원대로 오를 듯” /main/ranking/read.nhn?mid=etc&sid1=111&rankingType=popular_day&oid=011&aid=0003265714&date=20180409&type=1&rankingSeq=7&rankingSectionId=105\n",
      "2분기 G7 등 신제품 쏟아진다...이통시장 활기 찾나? /main/ranking/read.nhn?mid=etc&sid1=111&rankingType=popular_day&oid=119&aid=0002251081&date=20180409&type=1&rankingSeq=8&rankingSectionId=105\n"
     ]
    }
   ],
   "source": [
    "#for tag in soup.select('a[href*=sectionList.nhn]'):\n",
    "for tag in soup.select('a[href*=read.nhn]'):\n",
    "    link = tag['href']\n",
    "    print(tag.text.strip(), link)"
   ]
  },
  {
   "cell_type": "code",
   "execution_count": null,
   "metadata": {},
   "outputs": [],
   "source": []
  }
 ],
 "metadata": {
  "kernelspec": {
   "display_name": "Python 3",
   "language": "python",
   "name": "python3"
  },
  "language_info": {
   "codemirror_mode": {
    "name": "ipython",
    "version": 3
   },
   "file_extension": ".py",
   "mimetype": "text/x-python",
   "name": "python",
   "nbconvert_exporter": "python",
   "pygments_lexer": "ipython3",
   "version": "3.6.4"
  }
 },
 "nbformat": 4,
 "nbformat_minor": 2
}
