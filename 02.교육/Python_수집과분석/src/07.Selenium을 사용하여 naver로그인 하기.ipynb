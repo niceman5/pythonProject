{
 "cells": [
  {
   "cell_type": "code",
   "execution_count": 6,
   "metadata": {},
   "outputs": [],
   "source": [
    "from selenium import webdriver \n",
    "from time import sleep\n",
    "\n",
    "browser = webdriver.Chrome('./chromedriver.exe')\n",
    "browser.get('https://nid.naver.com/nidlogin.login')\n",
    "\n",
    "id = browser.find_element_by_css_selector('#id').send_keys(\"niceman5\")\n",
    "pw = browser.find_element_by_css_selector('#pw').send_keys(\"gustnr35!\")\n",
    "sleep(2)\n",
    "button = browser.find_element_by_css_selector('#frmNIDLogin > fieldset > input')\n",
    "button.click()\n",
    "\n",
    "sleep(10)\n",
    "browser.quit()"
   ]
  },
  {
   "cell_type": "code",
   "execution_count": null,
   "metadata": {},
   "outputs": [],
   "source": []
  }
 ],
 "metadata": {
  "kernelspec": {
   "display_name": "Python 3",
   "language": "python",
   "name": "python3"
  },
  "language_info": {
   "codemirror_mode": {
    "name": "ipython",
    "version": 3
   },
   "file_extension": ".py",
   "mimetype": "text/x-python",
   "name": "python",
   "nbconvert_exporter": "python",
   "pygments_lexer": "ipython3",
   "version": "3.6.4"
  }
 },
 "nbformat": 4,
 "nbformat_minor": 2
}
