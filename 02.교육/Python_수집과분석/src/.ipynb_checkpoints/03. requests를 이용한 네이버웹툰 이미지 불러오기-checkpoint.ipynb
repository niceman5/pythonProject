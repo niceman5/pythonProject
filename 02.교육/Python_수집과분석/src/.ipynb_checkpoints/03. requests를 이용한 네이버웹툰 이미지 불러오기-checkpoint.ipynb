{
 "cells": [
  {
   "cell_type": "code",
   "execution_count": 3,
   "metadata": {},
   "outputs": [],
   "source": [
    "import requests\n",
    "import os"
   ]
  },
  {
   "cell_type": "code",
   "execution_count": 5,
   "metadata": {},
   "outputs": [
    {
     "name": "stdout",
     "output_type": "stream",
     "text": [
      "20180316192143_52208fe1d1a85c3ad66edb491765eeaf_IMAG01_1.jpg\n"
     ]
    },
    {
     "ename": "TypeError",
     "evalue": "format() argument 2 must be str, not int",
     "output_type": "error",
     "traceback": [
      "\u001b[1;31m---------------------------------------------------------------------------\u001b[0m",
      "\u001b[1;31mTypeError\u001b[0m                                 Traceback (most recent call last)",
      "\u001b[1;32m<ipython-input-5-2381e9c10322>\u001b[0m in \u001b[0;36m<module>\u001b[1;34m()\u001b[0m\n\u001b[0;32m     14\u001b[0m     \u001b[0mprint\u001b[0m\u001b[1;33m(\u001b[0m\u001b[0mfile_name\u001b[0m\u001b[1;33m)\u001b[0m\u001b[1;33m\u001b[0m\u001b[0m\n\u001b[0;32m     15\u001b[0m     \u001b[1;32mwith\u001b[0m \u001b[0mopen\u001b[0m\u001b[1;33m(\u001b[0m\u001b[0mfile_name\u001b[0m\u001b[1;33m,\u001b[0m\u001b[1;34m'wb'\u001b[0m\u001b[1;33m)\u001b[0m \u001b[1;32mas\u001b[0m \u001b[0mf\u001b[0m\u001b[1;33m:\u001b[0m\u001b[1;33m\u001b[0m\u001b[0m\n\u001b[1;32m---> 16\u001b[1;33m         \u001b[0mprint\u001b[0m\u001b[1;33m(\u001b[0m\u001b[1;34m'image file name {} ( {} bytes) '\u001b[0m\u001b[1;33m,\u001b[0m \u001b[0mformat\u001b[0m\u001b[1;33m(\u001b[0m\u001b[0mfile_name\u001b[0m\u001b[1;33m,\u001b[0m \u001b[0mlen\u001b[0m\u001b[1;33m(\u001b[0m\u001b[0mimage_data\u001b[0m\u001b[1;33m)\u001b[0m\u001b[1;33m)\u001b[0m \u001b[1;33m)\u001b[0m\u001b[1;33m\u001b[0m\u001b[0m\n\u001b[0m\u001b[0;32m     17\u001b[0m         \u001b[0mf\u001b[0m\u001b[1;33m.\u001b[0m\u001b[0mwrite\u001b[0m\u001b[1;33m(\u001b[0m\u001b[0mimage_data\u001b[0m\u001b[1;33m)\u001b[0m\u001b[1;33m\u001b[0m\u001b[0m\n\u001b[0;32m     18\u001b[0m \u001b[1;33m\u001b[0m\u001b[0m\n",
      "\u001b[1;31mTypeError\u001b[0m: format() argument 2 must be str, not int"
     ]
    }
   ],
   "source": [
    "image_urls = [\n",
    "    \"http://imgcomic.naver.net/webtoon/183559/378/20180316192143_52208fe1d1a85c3ad66edb491765eeaf_IMAG01_1.jpg\",\n",
    "    \"http://imgcomic.naver.net/webtoon/183559/378/20180316192143_52208fe1d1a85c3ad66edb491765eeaf_IMAG01_2.jpg\",\n",
    "    \"http://imgcomic.naver.net/webtoon/183559/378/20180316192143_52208fe1d1a85c3ad66edb491765eeaf_IMAG01_3.jpg\"\n",
    "]\n",
    "\n",
    "for image_url in image_urls:\n",
    "    headers = {\n",
    "        'Referer':'http://comic.naver.com/webtoon/detail.nhn?titleId=183559&no=378&amp;weekday=mon'\n",
    "    }\n",
    "    response = requests.get(image_url, headers=headers)\n",
    "    image_data = response.content\n",
    "    file_name = os.path.basename(image_url)\n",
    "    print(file_name)\n",
    "    with open(file_name,'wb') as f:\n",
    "        print('image file name {} ( {} bytes) ', format(file_name, len(image_data)) )\n",
    "        f.write(image_data)\n",
    "    \n",
    "  \n"
   ]
  },
  {
   "cell_type": "code",
   "execution_count": null,
   "metadata": {},
   "outputs": [],
   "source": []
  }
 ],
 "metadata": {
  "kernelspec": {
   "display_name": "Python 3",
   "language": "python",
   "name": "python3"
  },
  "language_info": {
   "codemirror_mode": {
    "name": "ipython",
    "version": 3
   },
   "file_extension": ".py",
   "mimetype": "text/x-python",
   "name": "python",
   "nbconvert_exporter": "python",
   "pygments_lexer": "ipython3",
   "version": "3.6.4"
  }
 },
 "nbformat": 4,
 "nbformat_minor": 2
}
