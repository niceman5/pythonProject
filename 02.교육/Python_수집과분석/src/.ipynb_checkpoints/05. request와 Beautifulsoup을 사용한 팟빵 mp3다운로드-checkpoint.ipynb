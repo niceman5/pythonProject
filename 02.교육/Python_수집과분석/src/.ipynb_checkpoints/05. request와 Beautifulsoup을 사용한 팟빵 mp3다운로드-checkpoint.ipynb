{
 "cells": [
  {
   "cell_type": "code",
   "execution_count": 16,
   "metadata": {},
   "outputs": [
    {
     "name": "stdout",
     "output_type": "stream",
     "text": [
      "[56화] 청와대를 나서며...다시 시작점에 서다 (ft.박수현 전 대변인) http://www.podbbang.com/download?pid=13592&eid=22524546\n",
      "[55화] 내가 #MeToo 동참하는 이유 (ft.이재정 더민주 의원) http://www.podbbang.com/download?pid=13592&eid=22523761\n",
      "[54화] \"통키왕 처럼 달린다!\" (ft. 복기왕 아산시장 전격출연) http://www.podbbang.com/download?pid=13592&eid=22518912\n",
      "[53화]  '6.13 지방선거' 부산이 흔들린다! (ft.서병수 부산시장) http://www.podbbang.com/download?pid=13592&eid=22518501\n",
      "[52화] 'UAE게이트'의 진실은 과연 무엇인가? http://www.podbbang.com/download?pid=13592&eid=22513457\n",
      "[51화] '올문순' 평창올림픽 위원장의 빅 픽처(ft.최문순 강원지사) http://www.podbbang.com/download?pid=13592&eid=22512994\n",
      "[50화] 제주도의 푸른밤, 깊어가는 고민(ft.원희룡 제주지사) http://www.podbbang.com/download?pid=13592&eid=22506274\n",
      "[49화] '1987, 우리의 선택이 세상을 지킬 것입니다' (ft.김경찬 시나리오 작가) http://www.podbbang.com/download?pid=13592&eid=22505807\n",
      "[수다맨 콜라보 공개방송 2부] 2018년 예측뉴스 \"김용민 저, UAE의혹 정치판타지 소설\" http://www.podbbang.com/download?pid=13592&eid=22500543\n",
      "[수다맨 콜라보 공개방송 1부] \"2018 정치권 올해의 운세는?\" (게스트 : 정청래, 김용민, 최욱, 남배우) http://www.podbbang.com/download?pid=13592&eid=22500121\n"
     ]
    }
   ],
   "source": [
    "import requests\n",
    "from bs4 import BeautifulSoup\n",
    "from urllib.parse import urljoin\n",
    "\n",
    "page_url='http://www.podbbang.com/podbbangchnew/episode_list?id=13592&page=1'\n",
    "\n",
    "#이 싸이트는 이게 있어야 함\n",
    "headers = {\n",
    "    'Referer':'http://www.podbbang.com/ch/13592'\n",
    "}\n",
    "response = requests.get(page_url)\n",
    "response.encoding = 'utf-8'\n",
    "#response.encoding\n",
    "html = response.text\n",
    "\n",
    "soup = BeautifulSoup(html, 'html.parser')\n",
    "\n",
    "for li_tag in soup('li'):\n",
    "    title = li_tag.find('dt')['title']  \n",
    "    link = urljoin(page_url, li_tag.find('a')['href'])\n",
    "    \n",
    "    print(title, link)\n",
    "    mp3_bin = requests.get(link, headers=headers ).content\n",
    "    filenmae = '{}.mp3'.format(title);\n",
    "    with open(file_name,'wb') as f:\n",
    "        print('image file name {} ( {} bytes) ', format(file_name, len(mp3_bin)) )\n",
    "        f.write(mp3_bin)\n",
    "    \n",
    "    "
   ]
  },
  {
   "cell_type": "code",
   "execution_count": null,
   "metadata": {},
   "outputs": [],
   "source": []
  },
  {
   "cell_type": "code",
   "execution_count": null,
   "metadata": {},
   "outputs": [],
   "source": []
  }
 ],
 "metadata": {
  "kernelspec": {
   "display_name": "Python 3",
   "language": "python",
   "name": "python3"
  },
  "language_info": {
   "codemirror_mode": {
    "name": "ipython",
    "version": 3
   },
   "file_extension": ".py",
   "mimetype": "text/x-python",
   "name": "python",
   "nbconvert_exporter": "python",
   "pygments_lexer": "ipython3",
   "version": "3.6.4"
  }
 },
 "nbformat": 4,
 "nbformat_minor": 2
}
