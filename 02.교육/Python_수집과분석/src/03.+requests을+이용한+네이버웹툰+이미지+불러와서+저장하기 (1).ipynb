{
 "cells": [
  {
   "cell_type": "code",
   "execution_count": 1,
   "metadata": {},
   "outputs": [],
   "source": []
  },
  {
   "cell_type": "code",
   "execution_count": 6,
   "metadata": {},
   "outputs": [
    {
     "name": "stdout",
     "output_type": "stream",
     "text": [
      "image file name 20180316192143_52208fe1d1a85c3ad66edb491765eeaf_IMAG01_1.jpg ( 166858 bytes )\n",
      "image file name 20180316192143_52208fe1d1a85c3ad66edb491765eeaf_IMAG01_2.jpg ( 163734 bytes )\n",
      "image file name 20180316192143_52208fe1d1a85c3ad66edb491765eeaf_IMAG01_3.jpg ( 171350 bytes )\n"
     ]
    }
   ],
   "source": [
    "import requests\n",
    "import os\n",
    "image_urls = [\n",
    "    'http://imgcomic.naver.net/webtoon/183559/378/20180316192143_52208fe1d1a85c3ad66edb491765eeaf_IMAG01_1.jpg',\n",
    "    'http://imgcomic.naver.net/webtoon/183559/378/20180316192143_52208fe1d1a85c3ad66edb491765eeaf_IMAG01_2.jpg',\n",
    "    'http://imgcomic.naver.net/webtoon/183559/378/20180316192143_52208fe1d1a85c3ad66edb491765eeaf_IMAG01_3.jpg'\n",
    "]\n",
    "for image_url in image_urls:\n",
    "    headers = {\n",
    "        'Referer':'http://comic.naver.com/webtoon/detail.nhn?titleId=183559&no=378&amp;weekday=mon'\n",
    "    }\n",
    "    response=requests.get(image_url,headers=headers)\n",
    "    image_data=response.content\n",
    "    file_name=os.path.basename(image_url)\n",
    "    #print(file_name)\n",
    "    with open(file_name,'wb') as f:\n",
    "        print('image file name {} ( {} bytes )'.format(file_name,len(image_data)))\n",
    "        f.write(image_data)\n"
   ]
  },
  {
   "cell_type": "code",
   "execution_count": null,
   "metadata": {},
   "outputs": [],
   "source": []
  }
 ],
 "metadata": {
  "kernelspec": {
   "display_name": "Python 3",
   "language": "python",
   "name": "python3"
  },
  "language_info": {
   "codemirror_mode": {
    "name": "ipython",
    "version": 3
   },
   "file_extension": ".py",
   "mimetype": "text/x-python",
   "name": "python",
   "nbconvert_exporter": "python",
   "pygments_lexer": "ipython3",
   "version": "3.6.4"
  }
 },
 "nbformat": 4,
 "nbformat_minor": 2
}
