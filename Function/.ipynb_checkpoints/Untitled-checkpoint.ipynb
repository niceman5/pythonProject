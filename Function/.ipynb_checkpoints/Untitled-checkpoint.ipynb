{
 "cells": [
  {
   "cell_type": "code",
   "execution_count": 3,
   "metadata": {},
   "outputs": [],
   "source": [
    "class MyStr:\n",
    "    def __init__(self, s):\n",
    "        self.s = s\n",
    "    def __add__(self, s):\n",
    "        return MyStr(self.s + str(s))\n",
    "    def __sub__(self, o):\n",
    "        try:\n",
    "            k = self.s.index(o)\n",
    "            return MyStr(self.s[:k]+self.s[k+len(o):])\n",
    "        except ValueError:\n",
    "            return self\n",
    "    def __repr__(self):\n",
    "        return \"MyStr('{}')\".format(self.s)"
   ]
  },
  {
   "cell_type": "code",
   "execution_count": 4,
   "metadata": {},
   "outputs": [
    {
     "data": {
      "text/plain": [
       "MyStr('I like python and python')"
      ]
     },
     "execution_count": 4,
     "metadata": {},
     "output_type": "execute_result"
    }
   ],
   "source": [
    "a = MyStr(\"I like python and python\")\n",
    "a"
   ]
  },
  {
   "cell_type": "code",
   "execution_count": null,
   "metadata": {},
   "outputs": [],
   "source": []
  }
 ],
 "metadata": {
  "kernelspec": {
   "display_name": "Python 3",
   "language": "python",
   "name": "python3"
  },
  "language_info": {
   "codemirror_mode": {
    "name": "ipython",
    "version": 3
   },
   "file_extension": ".py",
   "mimetype": "text/x-python",
   "name": "python",
   "nbconvert_exporter": "python",
   "pygments_lexer": "ipython3",
   "version": "3.7.0"
  }
 },
 "nbformat": 4,
 "nbformat_minor": 2
}
